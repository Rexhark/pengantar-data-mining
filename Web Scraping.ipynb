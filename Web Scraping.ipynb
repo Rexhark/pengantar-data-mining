{
 "cells": [
  {
   "cell_type": "code",
   "execution_count": 1,
   "id": "c4c8aaca",
   "metadata": {},
   "outputs": [
    {
     "name": "stdout",
     "output_type": "stream",
     "text": [
      "Requirement already satisfied: selenium in /Users/octavian/anaconda3/lib/python3.11/site-packages (4.24.0)\n",
      "Requirement already satisfied: urllib3[socks]<3,>=1.26 in /Users/octavian/anaconda3/lib/python3.11/site-packages (from selenium) (1.26.16)\n",
      "Requirement already satisfied: trio~=0.17 in /Users/octavian/anaconda3/lib/python3.11/site-packages (from selenium) (0.26.2)\n",
      "Requirement already satisfied: trio-websocket~=0.9 in /Users/octavian/anaconda3/lib/python3.11/site-packages (from selenium) (0.11.1)\n",
      "Requirement already satisfied: certifi>=2021.10.8 in /Users/octavian/anaconda3/lib/python3.11/site-packages (from selenium) (2023.7.22)\n",
      "Requirement already satisfied: typing_extensions~=4.9 in /Users/octavian/anaconda3/lib/python3.11/site-packages (from selenium) (4.11.0)\n",
      "Requirement already satisfied: websocket-client~=1.8 in /Users/octavian/anaconda3/lib/python3.11/site-packages (from selenium) (1.8.0)\n",
      "Requirement already satisfied: attrs>=23.2.0 in /Users/octavian/anaconda3/lib/python3.11/site-packages (from trio~=0.17->selenium) (24.2.0)\n",
      "Requirement already satisfied: sortedcontainers in /Users/octavian/anaconda3/lib/python3.11/site-packages (from trio~=0.17->selenium) (2.4.0)\n",
      "Requirement already satisfied: idna in /Users/octavian/anaconda3/lib/python3.11/site-packages (from trio~=0.17->selenium) (3.4)\n",
      "Requirement already satisfied: outcome in /Users/octavian/anaconda3/lib/python3.11/site-packages (from trio~=0.17->selenium) (1.3.0.post0)\n",
      "Requirement already satisfied: sniffio>=1.3.0 in /Users/octavian/anaconda3/lib/python3.11/site-packages (from trio~=0.17->selenium) (1.3.1)\n",
      "Requirement already satisfied: wsproto>=0.14 in /Users/octavian/anaconda3/lib/python3.11/site-packages (from trio-websocket~=0.9->selenium) (1.2.0)\n",
      "Requirement already satisfied: PySocks!=1.5.7,<2.0,>=1.5.6 in /Users/octavian/anaconda3/lib/python3.11/site-packages (from urllib3[socks]<3,>=1.26->selenium) (1.7.1)\n",
      "Requirement already satisfied: h11<1,>=0.9.0 in /Users/octavian/anaconda3/lib/python3.11/site-packages (from wsproto>=0.14->trio-websocket~=0.9->selenium) (0.14.0)\n",
      "Requirement already satisfied: bs4 in /Users/octavian/anaconda3/lib/python3.11/site-packages (0.0.2)\n",
      "Requirement already satisfied: beautifulsoup4 in /Users/octavian/anaconda3/lib/python3.11/site-packages (from bs4) (4.12.2)\n",
      "Requirement already satisfied: soupsieve>1.2 in /Users/octavian/anaconda3/lib/python3.11/site-packages (from beautifulsoup4->bs4) (2.4)\n",
      "Requirement already satisfied: webdriver_manager in /Users/octavian/anaconda3/lib/python3.11/site-packages (4.0.2)\n",
      "Requirement already satisfied: requests in /Users/octavian/anaconda3/lib/python3.11/site-packages (from webdriver_manager) (2.31.0)\n",
      "Requirement already satisfied: python-dotenv in /Users/octavian/anaconda3/lib/python3.11/site-packages (from webdriver_manager) (0.21.0)\n",
      "Requirement already satisfied: packaging in /Users/octavian/anaconda3/lib/python3.11/site-packages (from webdriver_manager) (23.1)\n",
      "Requirement already satisfied: charset-normalizer<4,>=2 in /Users/octavian/anaconda3/lib/python3.11/site-packages (from requests->webdriver_manager) (2.0.4)\n",
      "Requirement already satisfied: idna<4,>=2.5 in /Users/octavian/anaconda3/lib/python3.11/site-packages (from requests->webdriver_manager) (3.4)\n",
      "Requirement already satisfied: urllib3<3,>=1.21.1 in /Users/octavian/anaconda3/lib/python3.11/site-packages (from requests->webdriver_manager) (1.26.16)\n",
      "Requirement already satisfied: certifi>=2017.4.17 in /Users/octavian/anaconda3/lib/python3.11/site-packages (from requests->webdriver_manager) (2023.7.22)\n"
     ]
    }
   ],
   "source": [
    "!pip install selenium\n",
    "!pip install bs4\n",
    "!pip install webdriver_manager"
   ]
  },
  {
   "cell_type": "code",
   "execution_count": 12,
   "id": "0a6bd632",
   "metadata": {},
   "outputs": [],
   "source": [
    "from selenium import webdriver\n",
    "from bs4 import BeautifulSoup\n",
    "import requests\n",
    "from selenium.webdriver.common.by import By\n",
    "from webdriver_manager.chrome import ChromeDriverManager\n",
    "import re\n",
    "import pandas as pd\n"
   ]
  },
  {
   "cell_type": "code",
   "execution_count": 18,
   "id": "c42ae37b",
   "metadata": {},
   "outputs": [],
   "source": [
    "options = webdriver.ChromeOptions()\n",
    "# options.add_argument(\"--headless=new\")\n",
    "driver = webdriver.Chrome()"
   ]
  },
  {
   "cell_type": "code",
   "execution_count": 19,
   "id": "ae9ba755",
   "metadata": {},
   "outputs": [],
   "source": [
    "url = \"https://mamikos.com/cari/bogor-bogor-west-java-indonesia/all/bulanan/0-15000000/119?keyword=Bogor&suggestion_type=search&rent=2&sort=price,-&price=10000-20000000&singgahsini=0\"\n",
    "driver.implicitly_wait(30)\n",
    "driver.get(url)"
   ]
  },
  {
   "cell_type": "code",
   "execution_count": 22,
   "id": "c684f50d",
   "metadata": {},
   "outputs": [],
   "source": [
    "python_button = driver.find_element(By.CLASS_NAME, \"nominatim-list__see-more\")\n",
    "python_button.click()"
   ]
  },
  {
   "cell_type": "code",
   "execution_count": 23,
   "id": "daf93c87",
   "metadata": {},
   "outputs": [
    {
     "name": "stdout",
     "output_type": "stream",
     "text": [
      "end of data\n"
     ]
    }
   ],
   "source": [
    "while True:\n",
    "    try:\n",
    "        python_button = driver.find_element(By.CLASS_NAME, \"nominatim-list__see-more\")\n",
    "        python_button.click()\n",
    "    except:\n",
    "        print('end of data')\n",
    "        break\n",
    "    "
   ]
  },
  {
   "cell_type": "code",
   "execution_count": 6,
   "id": "6cfa5e25",
   "metadata": {},
   "outputs": [],
   "source": [
    "soup=BeautifulSoup(driver.page_source, \"html.parser\")"
   ]
  },
  {
   "cell_type": "code",
   "execution_count": 7,
   "id": "5d1c28bc",
   "metadata": {},
   "outputs": [],
   "source": [
    "rooms = soup.find(\"div\", class_=\"nominatim-rooms-grid\")"
   ]
  },
  {
   "cell_type": "code",
   "execution_count": 8,
   "id": "36da5ec5",
   "metadata": {},
   "outputs": [],
   "source": [
    "info = rooms.find('span', class_=\"rc-info__name\").text.strip()\n",
    "location = rooms.find('span', class_=\"rc-info__location\").text.strip()\n",
    "price = rooms.find('span', class_=\"rc-price__text\").text.strip()\n",
    "price = re.sub('\\D', '', price)\n",
    "price_type = rooms.find('span', class_=\"rc-price__type\").text.strip()\n",
    "final_price = price+price_type"
   ]
  },
  {
   "cell_type": "code",
   "execution_count": 9,
   "id": "2eae6034",
   "metadata": {},
   "outputs": [
    {
     "data": {
      "text/plain": [
       "'Kost Singgahsini Casablanca III Tipe B Bogor'"
      ]
     },
     "execution_count": 9,
     "metadata": {},
     "output_type": "execute_result"
    }
   ],
   "source": [
    "info"
   ]
  },
  {
   "cell_type": "code",
   "execution_count": 10,
   "id": "68a5a48b",
   "metadata": {},
   "outputs": [
    {
     "data": {
      "text/plain": [
       "'Babakan Madang'"
      ]
     },
     "execution_count": 10,
     "metadata": {},
     "output_type": "execute_result"
    }
   ],
   "source": [
    "location"
   ]
  },
  {
   "cell_type": "code",
   "execution_count": 39,
   "id": "fb0ee886",
   "metadata": {},
   "outputs": [
    {
     "data": {
      "text/plain": [
       "'Rp4.525.000/bulan'"
      ]
     },
     "execution_count": 39,
     "metadata": {},
     "output_type": "execute_result"
    }
   ],
   "source": [
    "final_price"
   ]
  },
  {
   "cell_type": "code",
   "execution_count": 15,
   "id": "8f229c00",
   "metadata": {},
   "outputs": [],
   "source": [
    "rooms = soup.find_all(\"div\", class_=\"nominatim-rooms-grid\")"
   ]
  },
  {
   "cell_type": "code",
   "execution_count": 16,
   "id": "adc21e79",
   "metadata": {},
   "outputs": [],
   "source": [
    "room_name = []\n",
    "location = []\n",
    "price = []\n",
    "price_type = []\n",
    "for room in rooms:\n",
    "    room_name.append(room.find('span', class_=\"rc-info__name\").text.strip())\n",
    "    location.append(room.find('span', class_=\"rc-info__location\").text.strip())\n",
    "    price.append(re.sub('\\D','',room.find('span', class_=\"rc-price__text\").text.strip()))\n",
    "    price_type.append(room.find('span', class_=\"rc-price__type\").text.strip())\n",
    "\n",
    "df = pd.DataFrame({\n",
    "    'name': room_name,\n",
    "    'location': location,\n",
    "    'price': price,\n",
    "    'price_type': price_type\n",
    "})"
   ]
  },
  {
   "cell_type": "code",
   "execution_count": 17,
   "id": "48eaef5d",
   "metadata": {},
   "outputs": [
    {
     "data": {
      "text/html": [
       "<div>\n",
       "<style scoped>\n",
       "    .dataframe tbody tr th:only-of-type {\n",
       "        vertical-align: middle;\n",
       "    }\n",
       "\n",
       "    .dataframe tbody tr th {\n",
       "        vertical-align: top;\n",
       "    }\n",
       "\n",
       "    .dataframe thead th {\n",
       "        text-align: right;\n",
       "    }\n",
       "</style>\n",
       "<table border=\"1\" class=\"dataframe\">\n",
       "  <thead>\n",
       "    <tr style=\"text-align: right;\">\n",
       "      <th></th>\n",
       "      <th>name</th>\n",
       "      <th>location</th>\n",
       "      <th>price</th>\n",
       "      <th>price_type</th>\n",
       "    </tr>\n",
       "  </thead>\n",
       "  <tbody>\n",
       "    <tr>\n",
       "      <th>0</th>\n",
       "      <td>Kost Singgahsini Casablanca III Tipe B Bogor</td>\n",
       "      <td>Babakan Madang</td>\n",
       "      <td>4525000</td>\n",
       "      <td>/bulan</td>\n",
       "    </tr>\n",
       "    <tr>\n",
       "      <th>1</th>\n",
       "      <td>Kost Aryadita Tipe A Gunung Putri Bogor</td>\n",
       "      <td>Gunung Putri</td>\n",
       "      <td>1000000</td>\n",
       "      <td>/bulan</td>\n",
       "    </tr>\n",
       "    <tr>\n",
       "      <th>2</th>\n",
       "      <td>Kost Abas Babakan Madang Bogor</td>\n",
       "      <td>Babakan Madang</td>\n",
       "      <td>800000</td>\n",
       "      <td>/bulan</td>\n",
       "    </tr>\n",
       "    <tr>\n",
       "      <th>3</th>\n",
       "      <td>Kost Bona Homestay Tipe B Parung Bogor</td>\n",
       "      <td>Parung</td>\n",
       "      <td>1750000</td>\n",
       "      <td>/bulan</td>\n",
       "    </tr>\n",
       "    <tr>\n",
       "      <th>4</th>\n",
       "      <td>Kost Pondok Victoria Babakan Madang Bogor</td>\n",
       "      <td>Babakan Madang</td>\n",
       "      <td>1850000</td>\n",
       "      <td>/bulan</td>\n",
       "    </tr>\n",
       "    <tr>\n",
       "      <th>...</th>\n",
       "      <td>...</td>\n",
       "      <td>...</td>\n",
       "      <td>...</td>\n",
       "      <td>...</td>\n",
       "    </tr>\n",
       "    <tr>\n",
       "      <th>715</th>\n",
       "      <td>Kost Taman Venesia Raya 105 Tipe A Babakan Mad...</td>\n",
       "      <td>Kecamatan Babakan Madang</td>\n",
       "      <td>1200000</td>\n",
       "      <td>/bulan</td>\n",
       "    </tr>\n",
       "    <tr>\n",
       "      <th>716</th>\n",
       "      <td>Kost Griya Asih Makmur Ciampea Bogor</td>\n",
       "      <td>Ciampea</td>\n",
       "      <td>600000</td>\n",
       "      <td>/bulan</td>\n",
       "    </tr>\n",
       "    <tr>\n",
       "      <th>717</th>\n",
       "      <td>Kost Pelangi 73 Dramaga Bogor</td>\n",
       "      <td>Kecamatan Dramaga</td>\n",
       "      <td>680000</td>\n",
       "      <td>/bulan</td>\n",
       "    </tr>\n",
       "    <tr>\n",
       "      <th>718</th>\n",
       "      <td>Kost Asri Depan RSUD Tipe B Cibinong Bogor</td>\n",
       "      <td>Cibinong</td>\n",
       "      <td>1800000</td>\n",
       "      <td>/bulan</td>\n",
       "    </tr>\n",
       "    <tr>\n",
       "      <th>719</th>\n",
       "      <td>Kost Bintang Megamendung Bogor</td>\n",
       "      <td>Megamendung</td>\n",
       "      <td>500000</td>\n",
       "      <td>/bulan</td>\n",
       "    </tr>\n",
       "  </tbody>\n",
       "</table>\n",
       "<p>720 rows × 4 columns</p>\n",
       "</div>"
      ],
      "text/plain": [
       "                                                  name  \\\n",
       "0         Kost Singgahsini Casablanca III Tipe B Bogor   \n",
       "1              Kost Aryadita Tipe A Gunung Putri Bogor   \n",
       "2                       Kost Abas Babakan Madang Bogor   \n",
       "3               Kost Bona Homestay Tipe B Parung Bogor   \n",
       "4            Kost Pondok Victoria Babakan Madang Bogor   \n",
       "..                                                 ...   \n",
       "715  Kost Taman Venesia Raya 105 Tipe A Babakan Mad...   \n",
       "716               Kost Griya Asih Makmur Ciampea Bogor   \n",
       "717                      Kost Pelangi 73 Dramaga Bogor   \n",
       "718         Kost Asri Depan RSUD Tipe B Cibinong Bogor   \n",
       "719                     Kost Bintang Megamendung Bogor   \n",
       "\n",
       "                     location    price price_type  \n",
       "0              Babakan Madang  4525000     /bulan  \n",
       "1                Gunung Putri  1000000     /bulan  \n",
       "2              Babakan Madang   800000     /bulan  \n",
       "3                      Parung  1750000     /bulan  \n",
       "4              Babakan Madang  1850000     /bulan  \n",
       "..                        ...      ...        ...  \n",
       "715  Kecamatan Babakan Madang  1200000     /bulan  \n",
       "716                   Ciampea   600000     /bulan  \n",
       "717         Kecamatan Dramaga   680000     /bulan  \n",
       "718                  Cibinong  1800000     /bulan  \n",
       "719               Megamendung   500000     /bulan  \n",
       "\n",
       "[720 rows x 4 columns]"
      ]
     },
     "execution_count": 17,
     "metadata": {},
     "output_type": "execute_result"
    }
   ],
   "source": [
    "df"
   ]
  },
  {
   "cell_type": "code",
   "execution_count": null,
   "id": "aefd8176",
   "metadata": {},
   "outputs": [],
   "source": []
  },
  {
   "cell_type": "code",
   "execution_count": null,
   "id": "0529018c",
   "metadata": {},
   "outputs": [],
   "source": []
  }
 ],
 "metadata": {
  "kernelspec": {
   "display_name": "Python 3 (ipykernel)",
   "language": "python",
   "name": "python3"
  },
  "language_info": {
   "codemirror_mode": {
    "name": "ipython",
    "version": 3
   },
   "file_extension": ".py",
   "mimetype": "text/x-python",
   "name": "python",
   "nbconvert_exporter": "python",
   "pygments_lexer": "ipython3",
   "version": "3.11.5"
  }
 },
 "nbformat": 4,
 "nbformat_minor": 5
}
